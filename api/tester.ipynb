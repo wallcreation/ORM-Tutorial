{
 "cells": [
  {
   "cell_type": "code",
   "execution_count": 7,
   "id": "db3c0dda",
   "metadata": {},
   "outputs": [
    {
     "name": "stdout",
     "output_type": "stream",
     "text": [
      "The rich extension is already loaded. To reload it, use:\n",
      "  %reload_ext rich\n"
     ]
    }
   ],
   "source": [
    "%load_ext rich\n",
    "import aiohttp"
   ]
  },
  {
   "cell_type": "code",
   "execution_count": 8,
   "id": "a6495e85",
   "metadata": {},
   "outputs": [],
   "source": [
    "async def get_url(url):\n",
    "    async with aiohttp.ClientSession() as session:\n",
    "        async with session.get(url) as response:\n",
    "            return await response.text()"
   ]
  },
  {
   "cell_type": "code",
   "execution_count": 12,
   "id": "a32d69d3",
   "metadata": {},
   "outputs": [
    {
     "name": "stdout",
     "output_type": "stream",
     "text": [
      "[{\"id\":2,\"first_name\":\"Jane\",\"last_name\":\"Smith\",\"birth_date\":\"1990-02-02T00:00:00\"},{\"id\":3,\"first_name\":\"Alice\",\"last_name\":\"Johnson\",\"birth_date\":\"1985-03-03T00:00:00\"},{\"id\":1,\"first_name\":\"John\",\"last_name\":\"Doe\",\"birth_date\":\"1980-01-01T15:45:25\"}]\n"
     ]
    }
   ],
   "source": [
    "response = await get_url('http://127.0.0.1:8000/authors')\n",
    "print(response)"
   ]
  }
 ],
 "metadata": {
  "kernelspec": {
   "display_name": "Python 3",
   "language": "python",
   "name": "python3"
  },
  "language_info": {
   "codemirror_mode": {
    "name": "ipython",
    "version": 3
   },
   "file_extension": ".py",
   "mimetype": "text/x-python",
   "name": "python",
   "nbconvert_exporter": "python",
   "pygments_lexer": "ipython3",
   "version": "3.12.10"
  }
 },
 "nbformat": 4,
 "nbformat_minor": 5
}
